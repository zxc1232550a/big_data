{
 "cells": [
  {
   "cell_type": "code",
   "execution_count": 116,
   "metadata": {},
   "outputs": [],
   "source": [
    "import requests\n",
    "from lxml import etree\n",
    "import re\n",
    "import pymongo\n",
    "import time\n",
    "import pandas as pd\n",
    "\n",
    "#定義爬蟲函示\n",
    "def Crawl(id):\n",
    "    link = 'https://www.dcard.tw/_api/posts/' + str(id)\n",
    "    r = requests.get(link)\n",
    "    global rjson\n",
    "    rjson = r.json()\n",
    "    global df\n",
    "    df = pd.DataFrame(\n",
    "            data=[{\n",
    "            'id':rjson['id'],\n",
    "            'title':rjson['title'],\n",
    "            'content':rjson['content'],\n",
    "            'excerpt':rjson['excerpt'],\n",
    "            'createdAt':rjson['createdAt'],\n",
    "            'updatedAt':rjson['updatedAt'],\n",
    "            'commentCount':rjson['commentCount'],\n",
    "            'forumName':rjson['forumName'],\n",
    "            'forumAlias':rjson['forumAlias'],\n",
    "            'gender':rjson['gender'],\n",
    "            'likeCount':rjson['likeCount'],\n",
    "            'reactions':rjson['reactions'],\n",
    "            'topics':rjson['topics'],}],\n",
    "        columns=['id','title','content','excerpt','createdAt','updatedAt',\n",
    "                    'commentCount','forumName','forumAlias','gender','likeCount','reactions','topics'])\n",
    "    return(df, rjson)\n",
    "\n",
    "client = pymongo.MongoClient('localhost', 27017)\n",
    "mydb = client['Dcard']\n",
    "dcard = mydb['Dcard-1']"
   ]
  },
  {
   "cell_type": "code",
   "execution_count": 117,
   "metadata": {},
   "outputs": [
    {
     "data": {
      "text/plain": [
       "(          id         title                                            content  \\\n",
       " 0  233913837  不會有人比我慘了....  我們學校的畢業是要會游蛙式才能畢業\\n不得已只好在高雄的大太陽下游泳\\n因為在泳池裡擦防曬好...   \n",
       " \n",
       "                                              excerpt  \\\n",
       " 0  我們學校的畢業是要會游蛙式才能畢業，不得已只好在高雄的大太陽下游泳，因為在泳池裡擦防曬好像不...   \n",
       " \n",
       "                   createdAt                 updatedAt  commentCount forumName  \\\n",
       " 0  2020-06-20T15:45:44.464Z  2020-06-20T15:45:44.464Z           161        女孩   \n",
       " \n",
       "   forumAlias gender  likeCount  \\\n",
       " 0       girl      F       5372   \n",
       " \n",
       "                                            reactions                 topics  \n",
       " 0  [{'id': '286f599c-f86a-4932-82f0-f5a06f1eca03'...  [防曬, 心事, 女孩, 游泳, 游泳池]  ,\n",
       " {'id': 233913837,\n",
       "  'title': '不會有人比我慘了....',\n",
       "  'content': '我們學校的畢業是要會游蛙式才能畢業\\n不得已只好在高雄的大太陽下游泳\\n因為在泳池裡擦防曬好像不太好\\n所以我特別買了長袖的泳衣套裝（大概像這樣）\\nhttps://megapx-assets.dcard.tw/images/6dff3f8c-6e7a-416e-982e-295b7cebaa32/full.jpeg\\n結果才游了兩小時.....😱\\nhttps://megapx-assets.dcard.tw/images/58ac9472-e30c-4f45-ac4c-28777652f95a/640.jpeg\\n洗完澡發現我的腿怎麼黑黑的...😱😱\\n我還以為我們學校泳池有泥土==\\n結果用力摳才發現這根本不是髒東西\\n是 曬 黑 了！！！！😱😱😱\\nhttps://megapx-assets.dcard.tw/images/5a60009a-5503-47ce-ab65-d387771e61a5/640.jpeg\\nhttps://megapx-assets.dcard.tw/images/55ad6aec-caa4-4489-9ed4-ca1505f37cfd/640.jpeg\\nhttps://megapx-assets.dcard.tw/images/50fb28b7-f36b-4ea4-83d0-8caeb37add4e/640.jpeg\\n超無言的😱😱😱😱\\n大家不要以為腿在水裡就不會曬黑嗚嗚嗚嗚\\n我傳照片給我同學看他們都不相信\\n以為我是穿絲襪拍照嗚嗚嗚.....\\n不說了 \\n有人知道哪裡有賣長泳褲嗎？',\n",
       "  'excerpt': '我們學校的畢業是要會游蛙式才能畢業，不得已只好在高雄的大太陽下游泳，因為在泳池裡擦防曬好像不太好，所以我特別買了長袖的泳衣套裝（大概像這樣），結果才游了兩小時.....，洗完澡發現我的腿怎麼黑黑的..',\n",
       "  'anonymousSchool': True,\n",
       "  'anonymousDepartment': True,\n",
       "  'pinned': False,\n",
       "  'forumId': 'f72e3b1d-3c9a-4fec-8a61-41c76cc317af',\n",
       "  'replyId': 233901785,\n",
       "  'createdAt': '2020-06-20T15:45:44.464Z',\n",
       "  'updatedAt': '2020-06-20T15:45:44.464Z',\n",
       "  'commentCount': 161,\n",
       "  'likeCount': 5372,\n",
       "  'tags': [],\n",
       "  'topics': ['防曬', '心事', '女孩', '游泳', '游泳池'],\n",
       "  'supportedReactions': None,\n",
       "  'withNickname': False,\n",
       "  'reportReason': '',\n",
       "  'hiddenByAuthor': False,\n",
       "  'meta': {},\n",
       "  'forumName': '女孩',\n",
       "  'forumAlias': 'girl',\n",
       "  'nsfw': False,\n",
       "  'replyTitle': '台北的太陽好可怕',\n",
       "  'gender': 'F',\n",
       "  'personaSubscriptable': None,\n",
       "  'reactions': [{'id': '286f599c-f86a-4932-82f0-f5a06f1eca03', 'count': 4903},\n",
       "   {'id': 'e8e6bc5d-41b0-4129-b134-97507523d7ff', 'count': 343},\n",
       "   {'id': '4b018f48-e184-445f-adf1-fc8e04ba09b9', 'count': 108},\n",
       "   {'id': '514c2569-fd53-4d9d-a415-bf0f88e7329f', 'count': 17},\n",
       "   {'id': '011ead16-9b83-4729-9fde-c588920c6c2d', 'count': 1}],\n",
       "  'hidden': False,\n",
       "  'customStyle': None,\n",
       "  'isSuspiciousAccount': False,\n",
       "  'layout': 'classic',\n",
       "  'withImages': True,\n",
       "  'withVideos': False,\n",
       "  'media': [{'url': 'https://megapx-assets.dcard.tw/images/6dff3f8c-6e7a-416e-982e-295b7cebaa32/full.jpeg'},\n",
       "   {'url': 'https://megapx-assets.dcard.tw/images/58ac9472-e30c-4f45-ac4c-28777652f95a/640.jpeg'},\n",
       "   {'url': 'https://megapx-assets.dcard.tw/images/5a60009a-5503-47ce-ab65-d387771e61a5/640.jpeg'},\n",
       "   {'url': 'https://megapx-assets.dcard.tw/images/55ad6aec-caa4-4489-9ed4-ca1505f37cfd/640.jpeg'},\n",
       "   {'url': 'https://megapx-assets.dcard.tw/images/50fb28b7-f36b-4ea4-83d0-8caeb37add4e/640.jpeg'}],\n",
       "  'reportReasonText': '',\n",
       "  'mediaMeta': [{'id': '1eab2500-8a75-4424-9487-bfbf8e7a402e',\n",
       "    'url': 'https://megapx-assets.dcard.tw/images/6dff3f8c-6e7a-416e-982e-295b7cebaa32/160.jpeg',\n",
       "    'normalizedUrl': 'https://megapx-assets.dcard.tw/images/6dff3f8c-6e7a-416e-982e-295b7cebaa32/160.jpeg',\n",
       "    'thumbnail': 'https://megapx-assets.dcard.tw/images/6dff3f8c-6e7a-416e-982e-295b7cebaa32/160.jpeg',\n",
       "    'type': 'image/thumbnail',\n",
       "    'tags': [],\n",
       "    'createdAt': '2020-06-20T15:45:44.464Z',\n",
       "    'updatedAt': '2020-06-20T15:45:44.464Z',\n",
       "    'width': 160,\n",
       "    'height': 160},\n",
       "   {'id': '1eab2500-8a75-4424-9487-bfbf8e7a402e',\n",
       "    'url': 'https://megapx-assets.dcard.tw/images/6dff3f8c-6e7a-416e-982e-295b7cebaa32/full.jpeg',\n",
       "    'normalizedUrl': 'https://megapx.dcard.tw/v1/images/6dff3f8c-6e7a-416e-982e-295b7cebaa32',\n",
       "    'thumbnail': 'https://megapx-assets.dcard.tw/images/6dff3f8c-6e7a-416e-982e-295b7cebaa32/160.jpeg',\n",
       "    'type': 'image/megapx',\n",
       "    'tags': [],\n",
       "    'createdAt': '2020-06-20T15:45:44.464Z',\n",
       "    'updatedAt': '2020-06-20T15:45:44.464Z',\n",
       "    'width': 600,\n",
       "    'height': 600},\n",
       "   {'id': '92a056dd-f433-448a-93fd-ac2781badf40',\n",
       "    'url': 'https://megapx-assets.dcard.tw/images/58ac9472-e30c-4f45-ac4c-28777652f95a/640.jpeg',\n",
       "    'normalizedUrl': 'https://megapx.dcard.tw/v1/images/58ac9472-e30c-4f45-ac4c-28777652f95a',\n",
       "    'thumbnail': 'https://megapx-assets.dcard.tw/images/58ac9472-e30c-4f45-ac4c-28777652f95a/160.jpeg',\n",
       "    'type': 'image/megapx',\n",
       "    'tags': [],\n",
       "    'createdAt': '2020-06-20T15:45:44.464Z',\n",
       "    'updatedAt': '2020-06-20T15:45:44.464Z',\n",
       "    'width': 1125,\n",
       "    'height': 2000},\n",
       "   {'id': 'a8ef957c-8988-410b-8d82-fd9b05c51602',\n",
       "    'url': 'https://megapx-assets.dcard.tw/images/5a60009a-5503-47ce-ab65-d387771e61a5/640.jpeg',\n",
       "    'normalizedUrl': 'https://megapx.dcard.tw/v1/images/5a60009a-5503-47ce-ab65-d387771e61a5',\n",
       "    'thumbnail': 'https://megapx-assets.dcard.tw/images/5a60009a-5503-47ce-ab65-d387771e61a5/160.jpeg',\n",
       "    'type': 'image/megapx',\n",
       "    'tags': [],\n",
       "    'createdAt': '2020-06-20T15:45:44.464Z',\n",
       "    'updatedAt': '2020-06-20T15:45:44.464Z',\n",
       "    'width': 1125,\n",
       "    'height': 2000},\n",
       "   {'id': 'c3243656-0abf-4c38-ae1c-e0e7c2100c8e',\n",
       "    'url': 'https://megapx-assets.dcard.tw/images/55ad6aec-caa4-4489-9ed4-ca1505f37cfd/640.jpeg',\n",
       "    'normalizedUrl': 'https://megapx.dcard.tw/v1/images/55ad6aec-caa4-4489-9ed4-ca1505f37cfd',\n",
       "    'thumbnail': 'https://megapx-assets.dcard.tw/images/55ad6aec-caa4-4489-9ed4-ca1505f37cfd/160.jpeg',\n",
       "    'type': 'image/megapx',\n",
       "    'tags': [],\n",
       "    'createdAt': '2020-06-20T15:45:44.464Z',\n",
       "    'updatedAt': '2020-06-20T15:45:44.464Z',\n",
       "    'width': 1125,\n",
       "    'height': 2000},\n",
       "   {'id': '26acc5bf-663f-4304-9d9b-91f0559e902f',\n",
       "    'url': 'https://megapx-assets.dcard.tw/images/50fb28b7-f36b-4ea4-83d0-8caeb37add4e/640.jpeg',\n",
       "    'normalizedUrl': 'https://megapx.dcard.tw/v1/images/50fb28b7-f36b-4ea4-83d0-8caeb37add4e',\n",
       "    'thumbnail': 'https://megapx-assets.dcard.tw/images/50fb28b7-f36b-4ea4-83d0-8caeb37add4e/160.jpeg',\n",
       "    'type': 'image/megapx',\n",
       "    'tags': [],\n",
       "    'createdAt': '2020-06-20T15:45:44.464Z',\n",
       "    'updatedAt': '2020-06-20T15:45:44.464Z',\n",
       "    'width': 2000,\n",
       "    'height': 1125}],\n",
       "  'postAvatar': ''})"
      ]
     },
     "execution_count": 117,
     "metadata": {},
     "output_type": "execute_result"
    }
   ],
   "source": [
    "Crawl(233913837)"
   ]
  },
  {
   "cell_type": "code",
   "execution_count": 118,
   "metadata": {},
   "outputs": [
    {
     "data": {
      "text/plain": [
       "<pymongo.results.InsertOneResult at 0x171e602cac8>"
      ]
     },
     "execution_count": 118,
     "metadata": {},
     "output_type": "execute_result"
    }
   ],
   "source": [
    "dict_country = df.to_dict(orient=\"list\")\n",
    "dcard.insert_one(dict_country)"
   ]
  },
  {
   "cell_type": "code",
   "execution_count": 119,
   "metadata": {},
   "outputs": [
    {
     "data": {
      "text/plain": [
       "{'id': 233913837,\n",
       " 'title': '不會有人比我慘了....',\n",
       " 'content': '我們學校的畢業是要會游蛙式才能畢業\\n不得已只好在高雄的大太陽下游泳\\n因為在泳池裡擦防曬好像不太好\\n所以我特別買了長袖的泳衣套裝（大概像這樣）\\nhttps://megapx-assets.dcard.tw/images/6dff3f8c-6e7a-416e-982e-295b7cebaa32/full.jpeg\\n結果才游了兩小時.....😱\\nhttps://megapx-assets.dcard.tw/images/58ac9472-e30c-4f45-ac4c-28777652f95a/640.jpeg\\n洗完澡發現我的腿怎麼黑黑的...😱😱\\n我還以為我們學校泳池有泥土==\\n結果用力摳才發現這根本不是髒東西\\n是 曬 黑 了！！！！😱😱😱\\nhttps://megapx-assets.dcard.tw/images/5a60009a-5503-47ce-ab65-d387771e61a5/640.jpeg\\nhttps://megapx-assets.dcard.tw/images/55ad6aec-caa4-4489-9ed4-ca1505f37cfd/640.jpeg\\nhttps://megapx-assets.dcard.tw/images/50fb28b7-f36b-4ea4-83d0-8caeb37add4e/640.jpeg\\n超無言的😱😱😱😱\\n大家不要以為腿在水裡就不會曬黑嗚嗚嗚嗚\\n我傳照片給我同學看他們都不相信\\n以為我是穿絲襪拍照嗚嗚嗚.....\\n不說了 \\n有人知道哪裡有賣長泳褲嗎？',\n",
       " 'excerpt': '我們學校的畢業是要會游蛙式才能畢業，不得已只好在高雄的大太陽下游泳，因為在泳池裡擦防曬好像不太好，所以我特別買了長袖的泳衣套裝（大概像這樣），結果才游了兩小時.....，洗完澡發現我的腿怎麼黑黑的..',\n",
       " 'anonymousSchool': True,\n",
       " 'anonymousDepartment': True,\n",
       " 'pinned': False,\n",
       " 'forumId': 'f72e3b1d-3c9a-4fec-8a61-41c76cc317af',\n",
       " 'replyId': 233901785,\n",
       " 'createdAt': '2020-06-20T15:45:44.464Z',\n",
       " 'updatedAt': '2020-06-20T15:45:44.464Z',\n",
       " 'commentCount': 161,\n",
       " 'likeCount': 5372,\n",
       " 'tags': [],\n",
       " 'topics': ['防曬', '心事', '女孩', '游泳', '游泳池'],\n",
       " 'supportedReactions': None,\n",
       " 'withNickname': False,\n",
       " 'reportReason': '',\n",
       " 'hiddenByAuthor': False,\n",
       " 'meta': {},\n",
       " 'forumName': '女孩',\n",
       " 'forumAlias': 'girl',\n",
       " 'nsfw': False,\n",
       " 'replyTitle': '台北的太陽好可怕',\n",
       " 'gender': 'F',\n",
       " 'personaSubscriptable': None,\n",
       " 'reactions': [{'id': '286f599c-f86a-4932-82f0-f5a06f1eca03', 'count': 4903},\n",
       "  {'id': 'e8e6bc5d-41b0-4129-b134-97507523d7ff', 'count': 343},\n",
       "  {'id': '4b018f48-e184-445f-adf1-fc8e04ba09b9', 'count': 108},\n",
       "  {'id': '514c2569-fd53-4d9d-a415-bf0f88e7329f', 'count': 17},\n",
       "  {'id': '011ead16-9b83-4729-9fde-c588920c6c2d', 'count': 1}],\n",
       " 'hidden': False,\n",
       " 'customStyle': None,\n",
       " 'isSuspiciousAccount': False,\n",
       " 'layout': 'classic',\n",
       " 'withImages': True,\n",
       " 'withVideos': False,\n",
       " 'media': [{'url': 'https://megapx-assets.dcard.tw/images/6dff3f8c-6e7a-416e-982e-295b7cebaa32/full.jpeg'},\n",
       "  {'url': 'https://megapx-assets.dcard.tw/images/58ac9472-e30c-4f45-ac4c-28777652f95a/640.jpeg'},\n",
       "  {'url': 'https://megapx-assets.dcard.tw/images/5a60009a-5503-47ce-ab65-d387771e61a5/640.jpeg'},\n",
       "  {'url': 'https://megapx-assets.dcard.tw/images/55ad6aec-caa4-4489-9ed4-ca1505f37cfd/640.jpeg'},\n",
       "  {'url': 'https://megapx-assets.dcard.tw/images/50fb28b7-f36b-4ea4-83d0-8caeb37add4e/640.jpeg'}],\n",
       " 'reportReasonText': '',\n",
       " 'mediaMeta': [{'id': '1eab2500-8a75-4424-9487-bfbf8e7a402e',\n",
       "   'url': 'https://megapx-assets.dcard.tw/images/6dff3f8c-6e7a-416e-982e-295b7cebaa32/160.jpeg',\n",
       "   'normalizedUrl': 'https://megapx-assets.dcard.tw/images/6dff3f8c-6e7a-416e-982e-295b7cebaa32/160.jpeg',\n",
       "   'thumbnail': 'https://megapx-assets.dcard.tw/images/6dff3f8c-6e7a-416e-982e-295b7cebaa32/160.jpeg',\n",
       "   'type': 'image/thumbnail',\n",
       "   'tags': [],\n",
       "   'createdAt': '2020-06-20T15:45:44.464Z',\n",
       "   'updatedAt': '2020-06-20T15:45:44.464Z',\n",
       "   'width': 160,\n",
       "   'height': 160},\n",
       "  {'id': '1eab2500-8a75-4424-9487-bfbf8e7a402e',\n",
       "   'url': 'https://megapx-assets.dcard.tw/images/6dff3f8c-6e7a-416e-982e-295b7cebaa32/full.jpeg',\n",
       "   'normalizedUrl': 'https://megapx.dcard.tw/v1/images/6dff3f8c-6e7a-416e-982e-295b7cebaa32',\n",
       "   'thumbnail': 'https://megapx-assets.dcard.tw/images/6dff3f8c-6e7a-416e-982e-295b7cebaa32/160.jpeg',\n",
       "   'type': 'image/megapx',\n",
       "   'tags': [],\n",
       "   'createdAt': '2020-06-20T15:45:44.464Z',\n",
       "   'updatedAt': '2020-06-20T15:45:44.464Z',\n",
       "   'width': 600,\n",
       "   'height': 600},\n",
       "  {'id': '92a056dd-f433-448a-93fd-ac2781badf40',\n",
       "   'url': 'https://megapx-assets.dcard.tw/images/58ac9472-e30c-4f45-ac4c-28777652f95a/640.jpeg',\n",
       "   'normalizedUrl': 'https://megapx.dcard.tw/v1/images/58ac9472-e30c-4f45-ac4c-28777652f95a',\n",
       "   'thumbnail': 'https://megapx-assets.dcard.tw/images/58ac9472-e30c-4f45-ac4c-28777652f95a/160.jpeg',\n",
       "   'type': 'image/megapx',\n",
       "   'tags': [],\n",
       "   'createdAt': '2020-06-20T15:45:44.464Z',\n",
       "   'updatedAt': '2020-06-20T15:45:44.464Z',\n",
       "   'width': 1125,\n",
       "   'height': 2000},\n",
       "  {'id': 'a8ef957c-8988-410b-8d82-fd9b05c51602',\n",
       "   'url': 'https://megapx-assets.dcard.tw/images/5a60009a-5503-47ce-ab65-d387771e61a5/640.jpeg',\n",
       "   'normalizedUrl': 'https://megapx.dcard.tw/v1/images/5a60009a-5503-47ce-ab65-d387771e61a5',\n",
       "   'thumbnail': 'https://megapx-assets.dcard.tw/images/5a60009a-5503-47ce-ab65-d387771e61a5/160.jpeg',\n",
       "   'type': 'image/megapx',\n",
       "   'tags': [],\n",
       "   'createdAt': '2020-06-20T15:45:44.464Z',\n",
       "   'updatedAt': '2020-06-20T15:45:44.464Z',\n",
       "   'width': 1125,\n",
       "   'height': 2000},\n",
       "  {'id': 'c3243656-0abf-4c38-ae1c-e0e7c2100c8e',\n",
       "   'url': 'https://megapx-assets.dcard.tw/images/55ad6aec-caa4-4489-9ed4-ca1505f37cfd/640.jpeg',\n",
       "   'normalizedUrl': 'https://megapx.dcard.tw/v1/images/55ad6aec-caa4-4489-9ed4-ca1505f37cfd',\n",
       "   'thumbnail': 'https://megapx-assets.dcard.tw/images/55ad6aec-caa4-4489-9ed4-ca1505f37cfd/160.jpeg',\n",
       "   'type': 'image/megapx',\n",
       "   'tags': [],\n",
       "   'createdAt': '2020-06-20T15:45:44.464Z',\n",
       "   'updatedAt': '2020-06-20T15:45:44.464Z',\n",
       "   'width': 1125,\n",
       "   'height': 2000},\n",
       "  {'id': '26acc5bf-663f-4304-9d9b-91f0559e902f',\n",
       "   'url': 'https://megapx-assets.dcard.tw/images/50fb28b7-f36b-4ea4-83d0-8caeb37add4e/640.jpeg',\n",
       "   'normalizedUrl': 'https://megapx.dcard.tw/v1/images/50fb28b7-f36b-4ea4-83d0-8caeb37add4e',\n",
       "   'thumbnail': 'https://megapx-assets.dcard.tw/images/50fb28b7-f36b-4ea4-83d0-8caeb37add4e/160.jpeg',\n",
       "   'type': 'image/megapx',\n",
       "   'tags': [],\n",
       "   'createdAt': '2020-06-20T15:45:44.464Z',\n",
       "   'updatedAt': '2020-06-20T15:45:44.464Z',\n",
       "   'width': 2000,\n",
       "   'height': 1125}],\n",
       " 'postAvatar': ''}"
      ]
     },
     "execution_count": 119,
     "metadata": {},
     "output_type": "execute_result"
    }
   ],
   "source": [
    "rjson"
   ]
  },
  {
   "cell_type": "code",
   "execution_count": 120,
   "metadata": {},
   "outputs": [
    {
     "data": {
      "text/plain": [
       "<pymongo.results.InsertOneResult at 0x171e5ff84c8>"
      ]
     },
     "execution_count": 120,
     "metadata": {},
     "output_type": "execute_result"
    }
   ],
   "source": [
    "dcard.insert_one(rjson)"
   ]
  },
  {
   "cell_type": "code",
   "execution_count": 121,
   "metadata": {},
   "outputs": [
    {
     "name": "stdout",
     "output_type": "stream",
     "text": [
      "{'_id': ObjectId('5ef0240c23ca5bee2ae61f72'), 'id': 233832887, 'title': '#夢幻公司開箱 直擊！鮮乳坊如何讓夥伴幸福到捨不得離開', 'content': '各位剛畢業、正在尋找夢幻工作的半熟大人們！想知道哪些公司興趣可以跟工作結合、又可以上班自由快樂？不要懷疑，這些夢幻公司真的存在！Dcard 特別邀請 7 家超狂品牌親自來開箱！\\n\\n這篇小秘書邀請鮮乳坊的 HR 來幫各位卡友開箱！以下正文👇\\nhttp://i.imgur.com/XC0Infm.jpg\\nHi～各位半熟大人們，我的人生第一篇 Dcard 開箱文就奉獻給大家了。我是生活在這公司各個角落斜槓沙包/開心果/管家小幫手/苦力/人資，負責散播歡樂散播愛的人資牙。很迫不及待想帶各位好好認識一下這間充滿魔（ㄋㄠˋ）力（ㄐㄩˋ）的公司-鮮乳坊。\\n\\n\\nhttp://i.imgur.com/rjZ7cqY.jpg\\n\\n 鮮乳坊從2015年成立起，立志能夠透過商業模式與群眾的力量，一起翻轉酪農產業；並且立下「建立讓動物健康、農民驕傲、消費者信任的健全食農生態」的使命。為了達成這樣的理想，吸引了一群「憨人」加入這樣的團隊，就這麼日復一日傻傻地努力堅持著。三個創辦人看著夥伴每天忙進忙出，決定用像是對待鮮乳與酪農一樣的堅持，用心地讓夥伴們感到溫暖與幸福。\\n\\n「咖啡機運轉的聲音」是每天早上喚醒大家靈魂的聲音！『鮮奶喝到飽是基本！』公司裡充斥著濃郁的咖啡香搭配公司內的鮮奶，拿鐵的口感總是讓人精神一振！。往往此時廚房中島上會傳來陣陣的袋子聲音，是今日主廚放著琳瑯滿目的各式食材。聊著今日午餐可能的菜色後，帶著滿滿期待的心情，展開一整天的工作與會議。\\n\\n\\nhttp://i.imgur.com/MdpaFia.jpg\\n\\nhttp://i.imgur.com/iULqZwj.jpg\\n\\nhttp://i.imgur.com/zN6gHk0.jpg\\n\\n每到接近11點時，「御膳房」的輪值「特級廚師」開始在廚房忙進忙出，在中島上展現俐落的刀工，熟絡得翻動鍋鏟，食材一一放入炒鍋、湯鍋、烤盤、電鍋等廚具中，傳出的陣陣香氣，總會讓我不自覺飄到身旁多吸兩口，但吸完後還是要繼續努力，一邊辦公一邊與抗議的肚子奮戰，又愛又恨的度過準備嗷嗷待哺的時分。\\n\\n這就是鮮乳坊每天的中午，夥伴們都可以吃公司出資購買食材，由「御膳房特級廚師」們煮的三菜一湯！「御膳房」的組成多元，有擅長東西式餐點的主廚，加上幾位自願從零開始由洗菜、切菜學習的夥伴們，一起讓每一位夥伴在中午可以攝取到營養均衡的飲食以及安心無添加的食材；展現公司除了牛隻，連夥伴的健康都要一起把關！同時，多元主廚組成與實驗場域，讓夥伴們得以吃到各種好料的同時，與實驗中的獨特料理，都是夥伴們中午笑談中的好話題。\\n\\nhttp://i.imgur.com/3QAiDEq.jpg\\n\\nhttp://i.imgur.com/2K4ZCwB.jpg\\n\\n一開始這個小組是由一位重視安心食材，健康均衡的夥伴發起，看見夥伴每天中午都在吃速食，也不易找到營養均衡的餐食，因此由他開始在工作之餘幫大家製作午餐，到現在變成一個自發性參與的團隊負責，由其中的成員輪流分工；在工作許可的前提下，安排在御膳房製作每天的午餐供應給全公司的夥伴。同時，合作料理的過程中，讓夥伴們有跨組交流的機會，增進彼此的情誼！定期和獨立農民購買當季或有機的新鮮食材，支持農民們友善環境耕作的產品。不僅吃得健康還要吃得有價值！\\n\\nhttp://i.imgur.com/ProjiYm.jpg\\n\\n自從御膳房成立運作後，發現這是一個讓夥伴自主參與公司運作的好管道，也是發掘夥伴們自主想法的好時機。為了鼓勵夥伴一起讓公司變得更好，鮮乳坊積極推動自治組織的成立，除了照片中的品酒社，桌遊社也是熱門的社團之一。而福委會更是我們最大的自治組織（沒錯，福委會是自治的，經費由公司全額提供XD）另外，我們還有一個「管家組」，來照顧大家。鮮乳坊不是用嘴巴說說，我們很認真的執行，開放式的溝通，「讓你過得好，鮮乳坊變得更好。」\\n\\n鮮乳坊不只是要讓大家幸福，這些來自各行各業的夥伴們，各個都是幽默又有趣的人(幽默感可是招募上重要的關鍵呢!!)；直接體現在生活，甚至是大型活動中...例如：尾牙。抽著極度搞怪的指定 Dress Code：「富貴的清明節風、未來的海灘風、貧窮的公主風、清新的夜店風...等」，這就是鮮乳坊！吃得爽、鬧得爽、玩得爽，幸福到不想離開，也幸福的把這些愛都灌進給大家的鮮乳裡面！\\n\\nhttp://i.imgur.com/9PeO4Cm.jpg\\n 從2015 年，鮮乳坊以「自己的鮮奶自己救」為口號，發起群眾集資呼籲大眾支持產地直送的鮮乳，到如今，我們剛以突破700萬的集資金額完成突破產業技術的「A2β 酪蛋白鮮乳」集資。誰說一級產業不能創新？用專業守護這個產業，也用愛守護這個產業！還記得我們家創辦人同時也是乳牛獸醫的阿嘉曾經說過：「能擁有一群理念相近的團隊夥伴、能遇見對工作感到驕傲的酪農與認同鮮乳坊理念的「奶粉」消費者，真的是何其幸運。」我們期待因為鮮乳坊的存在，能產生更多正面影響力，進而讓大家看到台灣一級農產業的價值！當然，更包含培育更多專業人士投入這個產業！\\n\\nhttp://i.imgur.com/kuEzoYk.jpg\\n\\nhttp://i.imgur.com/yjhiCn7.jpg\\n\\n 最後下台一鞠躬前，身為一個公司的人資，還是要偷偷置入一下（拜託不要刪我文）～鮮乳坊在2020年正在努力從疫情中逆勢成長，團隊成員持續招募中！包含：整合行銷、通路經理、物流夥伴（我們都叫他們『奶哥』or『奶姐』）、客服夥伴！歡迎大家一起加入這個好玩、認真又溫暖的團隊，一起守護酪農、守護牛牛、守護大家的鮮乳～\\n\\nhttp://i.imgur.com/7YXNgAO.jpg\\n\\n\\n來看其他夢幻公司👇👇\\nDcard https://www.dcard.tw/f/job/p/233832501\\nGogoro https://www.dcard.tw/f/job/p/233832609\\nGogolook（Whoscall）https://www.dcard.tw/f/job/p/233832715\\nKKBOX https://www.dcard.tw/f/job/p/233832792\\nPinkoi https://www.dcard.tw/f/job/p/233832830\\n綠藤生機 https://www.dcard.tw/f/job/p/233832986\\n\\n🤩更多半熟大人生存攻略👉https://bit.ly/3dEtTR4', 'createdAt': '2020-06-08T05:20:26.312Z', 'updatedAt': '2020-06-15T06:09:10.595Z', 'commentCount': 73, 'forumName': '工作', 'forumAlias': 'job', 'gender': 'D', 'likeCount': 812, 'reactions': [{'id': '286f599c-f86a-4932-82f0-f5a06f1eca03', 'count': 794}, {'id': '4b018f48-e184-445f-adf1-fc8e04ba09b9', 'count': 7}, {'id': '011ead16-9b83-4729-9fde-c588920c6c2d', 'count': 4}, {'id': 'e8e6bc5d-41b0-4129-b134-97507523d7ff', 'count': 4}, {'id': 'aa0d425f-d530-4478-9a77-fe3aedc79eea', 'count': 2}, {'id': '514c2569-fd53-4d9d-a415-bf0f88e7329f', 'count': 1}], 'topics': ['夢幻公司開箱', '半熟大人', '工作', '求職', '鮮乳坊']}\n",
      "{'_id': ObjectId('5ef024a27eed65ba69dd01c4'), 'id': [233913837], 'title': ['不會有人比我慘了....'], 'content': ['我們學校的畢業是要會游蛙式才能畢業\\n不得已只好在高雄的大太陽下游泳\\n因為在泳池裡擦防曬好像不太好\\n所以我特別買了長袖的泳衣套裝（大概像這樣）\\nhttps://megapx-assets.dcard.tw/images/6dff3f8c-6e7a-416e-982e-295b7cebaa32/full.jpeg\\n結果才游了兩小時.....😱\\nhttps://megapx-assets.dcard.tw/images/58ac9472-e30c-4f45-ac4c-28777652f95a/640.jpeg\\n洗完澡發現我的腿怎麼黑黑的...😱😱\\n我還以為我們學校泳池有泥土==\\n結果用力摳才發現這根本不是髒東西\\n是 曬 黑 了！！！！😱😱😱\\nhttps://megapx-assets.dcard.tw/images/5a60009a-5503-47ce-ab65-d387771e61a5/640.jpeg\\nhttps://megapx-assets.dcard.tw/images/55ad6aec-caa4-4489-9ed4-ca1505f37cfd/640.jpeg\\nhttps://megapx-assets.dcard.tw/images/50fb28b7-f36b-4ea4-83d0-8caeb37add4e/640.jpeg\\n超無言的😱😱😱😱\\n大家不要以為腿在水裡就不會曬黑嗚嗚嗚嗚\\n我傳照片給我同學看他們都不相信\\n以為我是穿絲襪拍照嗚嗚嗚.....\\n不說了 \\n有人知道哪裡有賣長泳褲嗎？'], 'excerpt': ['我們學校的畢業是要會游蛙式才能畢業，不得已只好在高雄的大太陽下游泳，因為在泳池裡擦防曬好像不太好，所以我特別買了長袖的泳衣套裝（大概像這樣），結果才游了兩小時.....，洗完澡發現我的腿怎麼黑黑的..'], 'createdAt': ['2020-06-20T15:45:44.464Z'], 'updatedAt': ['2020-06-20T15:45:44.464Z'], 'commentCount': [161], 'forumName': ['女孩'], 'forumAlias': ['girl'], 'gender': ['F'], 'likeCount': [5372], 'reactions': [[{'id': '286f599c-f86a-4932-82f0-f5a06f1eca03', 'count': 4903}, {'id': 'e8e6bc5d-41b0-4129-b134-97507523d7ff', 'count': 343}, {'id': '4b018f48-e184-445f-adf1-fc8e04ba09b9', 'count': 108}, {'id': '514c2569-fd53-4d9d-a415-bf0f88e7329f', 'count': 17}, {'id': '011ead16-9b83-4729-9fde-c588920c6c2d', 'count': 1}]], 'topics': [['防曬', '心事', '女孩', '游泳', '游泳池']]}\n",
      "{'_id': ObjectId('5ef024a37eed65ba69dd01c5'), 'id': 233913837, 'title': '不會有人比我慘了....', 'content': '我們學校的畢業是要會游蛙式才能畢業\\n不得已只好在高雄的大太陽下游泳\\n因為在泳池裡擦防曬好像不太好\\n所以我特別買了長袖的泳衣套裝（大概像這樣）\\nhttps://megapx-assets.dcard.tw/images/6dff3f8c-6e7a-416e-982e-295b7cebaa32/full.jpeg\\n結果才游了兩小時.....😱\\nhttps://megapx-assets.dcard.tw/images/58ac9472-e30c-4f45-ac4c-28777652f95a/640.jpeg\\n洗完澡發現我的腿怎麼黑黑的...😱😱\\n我還以為我們學校泳池有泥土==\\n結果用力摳才發現這根本不是髒東西\\n是 曬 黑 了！！！！😱😱😱\\nhttps://megapx-assets.dcard.tw/images/5a60009a-5503-47ce-ab65-d387771e61a5/640.jpeg\\nhttps://megapx-assets.dcard.tw/images/55ad6aec-caa4-4489-9ed4-ca1505f37cfd/640.jpeg\\nhttps://megapx-assets.dcard.tw/images/50fb28b7-f36b-4ea4-83d0-8caeb37add4e/640.jpeg\\n超無言的😱😱😱😱\\n大家不要以為腿在水裡就不會曬黑嗚嗚嗚嗚\\n我傳照片給我同學看他們都不相信\\n以為我是穿絲襪拍照嗚嗚嗚.....\\n不說了 \\n有人知道哪裡有賣長泳褲嗎？', 'excerpt': '我們學校的畢業是要會游蛙式才能畢業，不得已只好在高雄的大太陽下游泳，因為在泳池裡擦防曬好像不太好，所以我特別買了長袖的泳衣套裝（大概像這樣），結果才游了兩小時.....，洗完澡發現我的腿怎麼黑黑的..', 'anonymousSchool': True, 'anonymousDepartment': True, 'pinned': False, 'forumId': 'f72e3b1d-3c9a-4fec-8a61-41c76cc317af', 'replyId': 233901785, 'createdAt': '2020-06-20T15:45:44.464Z', 'updatedAt': '2020-06-20T15:45:44.464Z', 'commentCount': 161, 'likeCount': 5372, 'tags': [], 'topics': ['防曬', '心事', '女孩', '游泳', '游泳池'], 'supportedReactions': None, 'withNickname': False, 'reportReason': '', 'hiddenByAuthor': False, 'meta': {}, 'forumName': '女孩', 'forumAlias': 'girl', 'nsfw': False, 'replyTitle': '台北的太陽好可怕', 'gender': 'F', 'personaSubscriptable': None, 'reactions': [{'id': '286f599c-f86a-4932-82f0-f5a06f1eca03', 'count': 4903}, {'id': 'e8e6bc5d-41b0-4129-b134-97507523d7ff', 'count': 343}, {'id': '4b018f48-e184-445f-adf1-fc8e04ba09b9', 'count': 108}, {'id': '514c2569-fd53-4d9d-a415-bf0f88e7329f', 'count': 17}, {'id': '011ead16-9b83-4729-9fde-c588920c6c2d', 'count': 1}], 'hidden': False, 'customStyle': None, 'isSuspiciousAccount': False, 'layout': 'classic', 'withImages': True, 'withVideos': False, 'media': [{'url': 'https://megapx-assets.dcard.tw/images/6dff3f8c-6e7a-416e-982e-295b7cebaa32/full.jpeg'}, {'url': 'https://megapx-assets.dcard.tw/images/58ac9472-e30c-4f45-ac4c-28777652f95a/640.jpeg'}, {'url': 'https://megapx-assets.dcard.tw/images/5a60009a-5503-47ce-ab65-d387771e61a5/640.jpeg'}, {'url': 'https://megapx-assets.dcard.tw/images/55ad6aec-caa4-4489-9ed4-ca1505f37cfd/640.jpeg'}, {'url': 'https://megapx-assets.dcard.tw/images/50fb28b7-f36b-4ea4-83d0-8caeb37add4e/640.jpeg'}], 'reportReasonText': '', 'mediaMeta': [{'id': '1eab2500-8a75-4424-9487-bfbf8e7a402e', 'url': 'https://megapx-assets.dcard.tw/images/6dff3f8c-6e7a-416e-982e-295b7cebaa32/160.jpeg', 'normalizedUrl': 'https://megapx-assets.dcard.tw/images/6dff3f8c-6e7a-416e-982e-295b7cebaa32/160.jpeg', 'thumbnail': 'https://megapx-assets.dcard.tw/images/6dff3f8c-6e7a-416e-982e-295b7cebaa32/160.jpeg', 'type': 'image/thumbnail', 'tags': [], 'createdAt': '2020-06-20T15:45:44.464Z', 'updatedAt': '2020-06-20T15:45:44.464Z', 'width': 160, 'height': 160}, {'id': '1eab2500-8a75-4424-9487-bfbf8e7a402e', 'url': 'https://megapx-assets.dcard.tw/images/6dff3f8c-6e7a-416e-982e-295b7cebaa32/full.jpeg', 'normalizedUrl': 'https://megapx.dcard.tw/v1/images/6dff3f8c-6e7a-416e-982e-295b7cebaa32', 'thumbnail': 'https://megapx-assets.dcard.tw/images/6dff3f8c-6e7a-416e-982e-295b7cebaa32/160.jpeg', 'type': 'image/megapx', 'tags': [], 'createdAt': '2020-06-20T15:45:44.464Z', 'updatedAt': '2020-06-20T15:45:44.464Z', 'width': 600, 'height': 600}, {'id': '92a056dd-f433-448a-93fd-ac2781badf40', 'url': 'https://megapx-assets.dcard.tw/images/58ac9472-e30c-4f45-ac4c-28777652f95a/640.jpeg', 'normalizedUrl': 'https://megapx.dcard.tw/v1/images/58ac9472-e30c-4f45-ac4c-28777652f95a', 'thumbnail': 'https://megapx-assets.dcard.tw/images/58ac9472-e30c-4f45-ac4c-28777652f95a/160.jpeg', 'type': 'image/megapx', 'tags': [], 'createdAt': '2020-06-20T15:45:44.464Z', 'updatedAt': '2020-06-20T15:45:44.464Z', 'width': 1125, 'height': 2000}, {'id': 'a8ef957c-8988-410b-8d82-fd9b05c51602', 'url': 'https://megapx-assets.dcard.tw/images/5a60009a-5503-47ce-ab65-d387771e61a5/640.jpeg', 'normalizedUrl': 'https://megapx.dcard.tw/v1/images/5a60009a-5503-47ce-ab65-d387771e61a5', 'thumbnail': 'https://megapx-assets.dcard.tw/images/5a60009a-5503-47ce-ab65-d387771e61a5/160.jpeg', 'type': 'image/megapx', 'tags': [], 'createdAt': '2020-06-20T15:45:44.464Z', 'updatedAt': '2020-06-20T15:45:44.464Z', 'width': 1125, 'height': 2000}, {'id': 'c3243656-0abf-4c38-ae1c-e0e7c2100c8e', 'url': 'https://megapx-assets.dcard.tw/images/55ad6aec-caa4-4489-9ed4-ca1505f37cfd/640.jpeg', 'normalizedUrl': 'https://megapx.dcard.tw/v1/images/55ad6aec-caa4-4489-9ed4-ca1505f37cfd', 'thumbnail': 'https://megapx-assets.dcard.tw/images/55ad6aec-caa4-4489-9ed4-ca1505f37cfd/160.jpeg', 'type': 'image/megapx', 'tags': [], 'createdAt': '2020-06-20T15:45:44.464Z', 'updatedAt': '2020-06-20T15:45:44.464Z', 'width': 1125, 'height': 2000}, {'id': '26acc5bf-663f-4304-9d9b-91f0559e902f', 'url': 'https://megapx-assets.dcard.tw/images/50fb28b7-f36b-4ea4-83d0-8caeb37add4e/640.jpeg', 'normalizedUrl': 'https://megapx.dcard.tw/v1/images/50fb28b7-f36b-4ea4-83d0-8caeb37add4e', 'thumbnail': 'https://megapx-assets.dcard.tw/images/50fb28b7-f36b-4ea4-83d0-8caeb37add4e/160.jpeg', 'type': 'image/megapx', 'tags': [], 'createdAt': '2020-06-20T15:45:44.464Z', 'updatedAt': '2020-06-20T15:45:44.464Z', 'width': 2000, 'height': 1125}], 'postAvatar': ''}\n"
     ]
    }
   ],
   "source": [
    "for x in dcard.find():\n",
    "    print(x)"
   ]
  },
  {
   "cell_type": "code",
   "execution_count": 122,
   "metadata": {},
   "outputs": [
    {
     "name": "stdout",
     "output_type": "stream",
     "text": [
      "{'_id': ObjectId('5ef0240c23ca5bee2ae61f72'), 'id': 233832887}\n",
      "{'_id': ObjectId('5ef024a27eed65ba69dd01c4'), 'id': [233913837]}\n",
      "{'_id': ObjectId('5ef024a37eed65ba69dd01c5'), 'id': 233913837}\n"
     ]
    }
   ],
   "source": [
    "for x in dcard.find({},{ \"_id\": 1, \"id\": 1, \"alexa\": 1 }):\n",
    "    print(x)"
   ]
  },
  {
   "cell_type": "code",
   "execution_count": 105,
   "metadata": {},
   "outputs": [
    {
     "data": {
      "text/html": [
       "<div>\n",
       "<style scoped>\n",
       "    .dataframe tbody tr th:only-of-type {\n",
       "        vertical-align: middle;\n",
       "    }\n",
       "\n",
       "    .dataframe tbody tr th {\n",
       "        vertical-align: top;\n",
       "    }\n",
       "\n",
       "    .dataframe thead th {\n",
       "        text-align: right;\n",
       "    }\n",
       "</style>\n",
       "<table border=\"1\" class=\"dataframe\">\n",
       "  <thead>\n",
       "    <tr style=\"text-align: right;\">\n",
       "      <th></th>\n",
       "      <th>id</th>\n",
       "      <th>title</th>\n",
       "      <th>content</th>\n",
       "      <th>excerpt</th>\n",
       "      <th>createdAt</th>\n",
       "      <th>updatedAt</th>\n",
       "      <th>commentCount</th>\n",
       "      <th>forumName</th>\n",
       "      <th>forumAlias</th>\n",
       "      <th>gender</th>\n",
       "      <th>likeCount</th>\n",
       "      <th>reactions</th>\n",
       "      <th>topics</th>\n",
       "    </tr>\n",
       "  </thead>\n",
       "  <tbody>\n",
       "    <tr>\n",
       "      <th>0</th>\n",
       "      <td>233832887</td>\n",
       "      <td>#夢幻公司開箱 直擊！鮮乳坊如何讓夥伴幸福到捨不得離開</td>\n",
       "      <td>各位剛畢業、正在尋找夢幻工作的半熟大人們！想知道哪些公司興趣可以跟工作結合、又可以上班自由快...</td>\n",
       "      <td>各位剛畢業、正在尋找夢幻工作的半熟大人們！想知道哪些公司興趣可以跟工作結合、又可以上班自由快...</td>\n",
       "      <td>2020-06-08T05:20:26.312Z</td>\n",
       "      <td>2020-06-15T06:09:10.595Z</td>\n",
       "      <td>73</td>\n",
       "      <td>工作</td>\n",
       "      <td>job</td>\n",
       "      <td>D</td>\n",
       "      <td>811</td>\n",
       "      <td>[{'id': '286f599c-f86a-4932-82f0-f5a06f1eca03'...</td>\n",
       "      <td>[夢幻公司開箱, 半熟大人, 工作, 求職, 鮮乳坊]</td>\n",
       "    </tr>\n",
       "  </tbody>\n",
       "</table>\n",
       "</div>"
      ],
      "text/plain": [
       "          id                        title  \\\n",
       "0  233832887  #夢幻公司開箱 直擊！鮮乳坊如何讓夥伴幸福到捨不得離開   \n",
       "\n",
       "                                             content  \\\n",
       "0  各位剛畢業、正在尋找夢幻工作的半熟大人們！想知道哪些公司興趣可以跟工作結合、又可以上班自由快...   \n",
       "\n",
       "                                             excerpt  \\\n",
       "0  各位剛畢業、正在尋找夢幻工作的半熟大人們！想知道哪些公司興趣可以跟工作結合、又可以上班自由快...   \n",
       "\n",
       "                  createdAt                 updatedAt  commentCount forumName  \\\n",
       "0  2020-06-08T05:20:26.312Z  2020-06-15T06:09:10.595Z            73        工作   \n",
       "\n",
       "  forumAlias gender  likeCount  \\\n",
       "0        job      D        811   \n",
       "\n",
       "                                           reactions  \\\n",
       "0  [{'id': '286f599c-f86a-4932-82f0-f5a06f1eca03'...   \n",
       "\n",
       "                        topics  \n",
       "0  [夢幻公司開箱, 半熟大人, 工作, 求職, 鮮乳坊]  "
      ]
     },
     "execution_count": 105,
     "metadata": {},
     "output_type": "execute_result"
    }
   ],
   "source": [
    "df"
   ]
  },
  {
   "cell_type": "code",
   "execution_count": 107,
   "metadata": {},
   "outputs": [
    {
     "ename": "TypeError",
     "evalue": "update_one() missing 1 required positional argument: 'update'",
     "output_type": "error",
     "traceback": [
      "\u001b[1;31m---------------------------------------------------------------------------\u001b[0m",
      "\u001b[1;31mTypeError\u001b[0m                                 Traceback (most recent call last)",
      "\u001b[1;32m<ipython-input-107-f17223843080>\u001b[0m in \u001b[0;36m<module>\u001b[1;34m\u001b[0m\n\u001b[1;32m----> 1\u001b[1;33m \u001b[0mdcard\u001b[0m\u001b[1;33m.\u001b[0m\u001b[0mupdate_one\u001b[0m\u001b[1;33m(\u001b[0m\u001b[0mrjson\u001b[0m\u001b[1;33m,\u001b[0m \u001b[0mupsert\u001b[0m\u001b[1;33m=\u001b[0m\u001b[1;32mFalse\u001b[0m\u001b[1;33m)\u001b[0m\u001b[1;33m\u001b[0m\u001b[1;33m\u001b[0m\u001b[0m\n\u001b[0m",
      "\u001b[1;31mTypeError\u001b[0m: update_one() missing 1 required positional argument: 'update'"
     ]
    }
   ],
   "source": [
    "dcard.update_one(rjson, upsert=False)"
   ]
  },
  {
   "cell_type": "code",
   "execution_count": null,
   "metadata": {},
   "outputs": [],
   "source": [
    "_many()"
   ]
  }
 ],
 "metadata": {
  "kernelspec": {
   "display_name": "Python 3",
   "language": "python",
   "name": "python3"
  },
  "language_info": {
   "codemirror_mode": {
    "name": "ipython",
    "version": 3
   },
   "file_extension": ".py",
   "mimetype": "text/x-python",
   "name": "python",
   "nbconvert_exporter": "python",
   "pygments_lexer": "ipython3",
   "version": "3.7.6"
  }
 },
 "nbformat": 4,
 "nbformat_minor": 4
}
