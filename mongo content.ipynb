{
 "cells": [
  {
   "cell_type": "code",
   "execution_count": 1,
   "metadata": {},
   "outputs": [],
   "source": [
    "import pymongo\n",
    "import pandas as pd"
   ]
  },
  {
   "cell_type": "code",
   "execution_count": 2,
   "metadata": {},
   "outputs": [],
   "source": [
    "client = pymongo.MongoClient('localhost', 27017)\n",
    "mydb = client['Dcard']\n",
    "dcard = mydb['Dcard-1']"
   ]
  },
  {
   "cell_type": "code",
   "execution_count": 3,
   "metadata": {},
   "outputs": [],
   "source": [
    "def mongo_find(x):\n",
    "    return(pd.DataFrame(\n",
    "        data = [{\n",
    "            'id':x['id'],\n",
    "            'title':x['title'],\n",
    "            'content':x['content'],\n",
    "            'createdAt':x['createdAt'],\n",
    "            'updatedAt':x['updatedAt'],\n",
    "            'commentCount':x['commentCount'],\n",
    "            'forumName':x['forumName'],\n",
    "            'forumAlias':x['forumAlias'],\n",
    "            'gender':x['gender'],\n",
    "            'likeCount':x['likeCount'],\n",
    "            'reactions':x['reactions'],\n",
    "            'topics':x['topics'],}], \n",
    "        columns=['id','title','content','createdAt','updatedAt',\n",
    "                 'commentCount','forumName','forumAlias','gender','likeCount','reactions','topics']))"
   ]
  },
  {
   "cell_type": "code",
   "execution_count": 24,
   "metadata": {},
   "outputs": [
    {
     "data": {
      "text/html": [
       "<div>\n",
       "<style scoped>\n",
       "    .dataframe tbody tr th:only-of-type {\n",
       "        vertical-align: middle;\n",
       "    }\n",
       "\n",
       "    .dataframe tbody tr th {\n",
       "        vertical-align: top;\n",
       "    }\n",
       "\n",
       "    .dataframe thead th {\n",
       "        text-align: right;\n",
       "    }\n",
       "</style>\n",
       "<table border=\"1\" class=\"dataframe\">\n",
       "  <thead>\n",
       "    <tr style=\"text-align: right;\">\n",
       "      <th></th>\n",
       "      <th>id</th>\n",
       "      <th>title</th>\n",
       "      <th>content</th>\n",
       "      <th>createdAt</th>\n",
       "      <th>updatedAt</th>\n",
       "      <th>commentCount</th>\n",
       "      <th>forumName</th>\n",
       "      <th>forumAlias</th>\n",
       "      <th>gender</th>\n",
       "      <th>likeCount</th>\n",
       "      <th>reactions</th>\n",
       "      <th>topics</th>\n",
       "    </tr>\n",
       "  </thead>\n",
       "  <tbody>\n",
       "    <tr>\n",
       "      <th>0</th>\n",
       "      <td>233929277</td>\n",
       "      <td>胃食道逆流，求推薦新竹照胃鏡的健檢中心</td>\n",
       "      <td>前陣子因為課業和工作兩頭燒，壓力很大，三餐都不正常\\n開始有胃食道逆流的徵狀出現…\\n但因為...</td>\n",
       "      <td>2020-06-23T05:51:27.941Z</td>\n",
       "      <td>2020-06-23T05:51:27.941Z</td>\n",
       "      <td>0</td>\n",
       "      <td>閒聊</td>\n",
       "      <td>talk</td>\n",
       "      <td>F</td>\n",
       "      <td>0</td>\n",
       "      <td>[]</td>\n",
       "      <td>[胃食道逆流, 新竹, 照胃鏡]</td>\n",
       "    </tr>\n",
       "    <tr>\n",
       "      <th>1</th>\n",
       "      <td>233928991</td>\n",
       "      <td>影片前面一小段</td>\n",
       "      <td>有人跟我一樣很討厭現在很多影片前面都有一小段的內容嗎\\n有一種被劇透的感覺 很不爽🤯🤯🤯🤯🤯...</td>\n",
       "      <td>2020-06-23T04:55:28.180Z</td>\n",
       "      <td>2020-06-23T04:55:28.180Z</td>\n",
       "      <td>0</td>\n",
       "      <td>閒聊</td>\n",
       "      <td>talk</td>\n",
       "      <td>M</td>\n",
       "      <td>0</td>\n",
       "      <td>[]</td>\n",
       "      <td>[]</td>\n",
       "    </tr>\n",
       "    <tr>\n",
       "      <th>2</th>\n",
       "      <td>233928948</td>\n",
       "      <td>當警察被戴綠帽的機會高嗎？</td>\n",
       "      <td>如題，長期的作習不正常+加班，導致性能力不佳，又很難有時間陪妻子跟子女</td>\n",
       "      <td>2020-06-23T04:45:34.726Z</td>\n",
       "      <td>2020-06-23T04:45:34.726Z</td>\n",
       "      <td>1</td>\n",
       "      <td>閒聊</td>\n",
       "      <td>talk</td>\n",
       "      <td>M</td>\n",
       "      <td>1</td>\n",
       "      <td>[{'id': '286f599c-f86a-4932-82f0-f5a06f1eca03'...</td>\n",
       "      <td>[警察, 閒聊, 綠帽, 生活]</td>\n",
       "    </tr>\n",
       "    <tr>\n",
       "      <th>3</th>\n",
       "      <td>233928947</td>\n",
       "      <td>青筋之手</td>\n",
       "      <td>不知道各位女孩是不是和我一樣\\n對微青筋的手特別😍😍😍\\nhttps://i.imgur.c...</td>\n",
       "      <td>2020-06-23T04:45:25.623Z</td>\n",
       "      <td>2020-06-23T04:45:25.623Z</td>\n",
       "      <td>2</td>\n",
       "      <td>閒聊</td>\n",
       "      <td>talk</td>\n",
       "      <td>F</td>\n",
       "      <td>0</td>\n",
       "      <td>[]</td>\n",
       "      <td>[青筋, 閒聊]</td>\n",
       "    </tr>\n",
       "    <tr>\n",
       "      <th>4</th>\n",
       "      <td>233928913</td>\n",
       "      <td>台灣的outlet價是不是跟專櫃差不多</td>\n",
       "      <td>今天去逛知名outlet，\\n印象outlet不是大部分都是打超多折，\\n沒有五折 也有六折...</td>\n",
       "      <td>2020-06-23T04:38:35.710Z</td>\n",
       "      <td>2020-06-23T04:39:38.154Z</td>\n",
       "      <td>1</td>\n",
       "      <td>閒聊</td>\n",
       "      <td>talk</td>\n",
       "      <td>M</td>\n",
       "      <td>1</td>\n",
       "      <td>[{'id': '286f599c-f86a-4932-82f0-f5a06f1eca03'...</td>\n",
       "      <td>[閒聊, 購物]</td>\n",
       "    </tr>\n",
       "    <tr>\n",
       "      <th>...</th>\n",
       "      <td>...</td>\n",
       "      <td>...</td>\n",
       "      <td>...</td>\n",
       "      <td>...</td>\n",
       "      <td>...</td>\n",
       "      <td>...</td>\n",
       "      <td>...</td>\n",
       "      <td>...</td>\n",
       "      <td>...</td>\n",
       "      <td>...</td>\n",
       "      <td>...</td>\n",
       "      <td>...</td>\n",
       "    </tr>\n",
       "    <tr>\n",
       "      <th>9997</th>\n",
       "      <td>233238711</td>\n",
       "      <td>有沒有政府很ㄎ一尢的八掛</td>\n",
       "      <td>最近常看政府部門fb,大家是在比梗嗎😂\\n\\n台中市推線上祭拜，美意真的很好，但照片看起來為...</td>\n",
       "      <td>2020-03-11T04:06:58.973Z</td>\n",
       "      <td>2020-03-11T05:02:24.894Z</td>\n",
       "      <td>0</td>\n",
       "      <td>閒聊</td>\n",
       "      <td>talk</td>\n",
       "      <td>F</td>\n",
       "      <td>2</td>\n",
       "      <td>[{'id': '286f599c-f86a-4932-82f0-f5a06f1eca03'...</td>\n",
       "      <td>[祭祖, 政府, 好笑]</td>\n",
       "    </tr>\n",
       "    <tr>\n",
       "      <th>9998</th>\n",
       "      <td>233238661</td>\n",
       "      <td>對於亂用活動標語這情況各位怎麼看待</td>\n",
       "      <td>https://i.imgur.com/9CQDvaF.jpg\\n我自己是覺得很不行啦\\n而...</td>\n",
       "      <td>2020-03-11T03:56:22.796Z</td>\n",
       "      <td>2020-03-11T03:56:22.796Z</td>\n",
       "      <td>0</td>\n",
       "      <td>閒聊</td>\n",
       "      <td>talk</td>\n",
       "      <td>M</td>\n",
       "      <td>0</td>\n",
       "      <td>[]</td>\n",
       "      <td>[]</td>\n",
       "    </tr>\n",
       "    <tr>\n",
       "      <th>9999</th>\n",
       "      <td>233238589</td>\n",
       "      <td>拜託各位幫忙填問卷🙏</td>\n",
       "      <td>各位同學大家好\\n我們是暨南大學教政系的學生\\n目的是調查學生選擇國立或私立大學的原因與考量...</td>\n",
       "      <td>2020-03-11T03:42:01.074Z</td>\n",
       "      <td>2020-03-11T03:42:01.074Z</td>\n",
       "      <td>0</td>\n",
       "      <td>閒聊</td>\n",
       "      <td>talk</td>\n",
       "      <td>F</td>\n",
       "      <td>1</td>\n",
       "      <td>[{'id': '286f599c-f86a-4932-82f0-f5a06f1eca03'...</td>\n",
       "      <td>[]</td>\n",
       "    </tr>\n",
       "    <tr>\n",
       "      <th>10000</th>\n",
       "      <td>233238562</td>\n",
       "      <td>#車禍  和解賠償詢問 (急)</td>\n",
       "      <td>不好意思上來詢問大家\\n在昨天母親突然被通知要去對方保險公司和解\\n(母親當初直接給電動車保...</td>\n",
       "      <td>2020-03-11T03:38:57.596Z</td>\n",
       "      <td>2020-03-11T04:48:32.220Z</td>\n",
       "      <td>14</td>\n",
       "      <td>閒聊</td>\n",
       "      <td>talk</td>\n",
       "      <td>F</td>\n",
       "      <td>2</td>\n",
       "      <td>[{'id': '286f599c-f86a-4932-82f0-f5a06f1eca03'...</td>\n",
       "      <td>[車禍, 賠償, 和解, 車禍賠償]</td>\n",
       "    </tr>\n",
       "    <tr>\n",
       "      <th>10001</th>\n",
       "      <td>233238558</td>\n",
       "      <td>我的鞋該丟了嗎</td>\n",
       "      <td>最近出門的時候我的鞋被嫌棄的有點慘\\n我問我朋友說我穿這樣好嗎\\n他說可以 但不要再搭你的N...</td>\n",
       "      <td>2020-03-11T03:38:09.087Z</td>\n",
       "      <td>2020-03-11T03:38:09.087Z</td>\n",
       "      <td>6</td>\n",
       "      <td>閒聊</td>\n",
       "      <td>talk</td>\n",
       "      <td>F</td>\n",
       "      <td>1</td>\n",
       "      <td>[{'id': '286f599c-f86a-4932-82f0-f5a06f1eca03'...</td>\n",
       "      <td>[鞋子]</td>\n",
       "    </tr>\n",
       "  </tbody>\n",
       "</table>\n",
       "<p>10002 rows × 12 columns</p>\n",
       "</div>"
      ],
      "text/plain": [
       "              id                title  \\\n",
       "0      233929277  胃食道逆流，求推薦新竹照胃鏡的健檢中心   \n",
       "1      233928991              影片前面一小段   \n",
       "2      233928948        當警察被戴綠帽的機會高嗎？   \n",
       "3      233928947                 青筋之手   \n",
       "4      233928913  台灣的outlet價是不是跟專櫃差不多   \n",
       "...          ...                  ...   \n",
       "9997   233238711         有沒有政府很ㄎ一尢的八掛   \n",
       "9998   233238661    對於亂用活動標語這情況各位怎麼看待   \n",
       "9999   233238589           拜託各位幫忙填問卷🙏   \n",
       "10000  233238562      #車禍  和解賠償詢問 (急)   \n",
       "10001  233238558              我的鞋該丟了嗎   \n",
       "\n",
       "                                                 content  \\\n",
       "0      前陣子因為課業和工作兩頭燒，壓力很大，三餐都不正常\\n開始有胃食道逆流的徵狀出現…\\n但因為...   \n",
       "1      有人跟我一樣很討厭現在很多影片前面都有一小段的內容嗎\\n有一種被劇透的感覺 很不爽🤯🤯🤯🤯🤯...   \n",
       "2                    如題，長期的作習不正常+加班，導致性能力不佳，又很難有時間陪妻子跟子女   \n",
       "3      不知道各位女孩是不是和我一樣\\n對微青筋的手特別😍😍😍\\nhttps://i.imgur.c...   \n",
       "4      今天去逛知名outlet，\\n印象outlet不是大部分都是打超多折，\\n沒有五折 也有六折...   \n",
       "...                                                  ...   \n",
       "9997   最近常看政府部門fb,大家是在比梗嗎😂\\n\\n台中市推線上祭拜，美意真的很好，但照片看起來為...   \n",
       "9998   https://i.imgur.com/9CQDvaF.jpg\\n我自己是覺得很不行啦\\n而...   \n",
       "9999   各位同學大家好\\n我們是暨南大學教政系的學生\\n目的是調查學生選擇國立或私立大學的原因與考量...   \n",
       "10000  不好意思上來詢問大家\\n在昨天母親突然被通知要去對方保險公司和解\\n(母親當初直接給電動車保...   \n",
       "10001  最近出門的時候我的鞋被嫌棄的有點慘\\n我問我朋友說我穿這樣好嗎\\n他說可以 但不要再搭你的N...   \n",
       "\n",
       "                      createdAt                 updatedAt  commentCount  \\\n",
       "0      2020-06-23T05:51:27.941Z  2020-06-23T05:51:27.941Z             0   \n",
       "1      2020-06-23T04:55:28.180Z  2020-06-23T04:55:28.180Z             0   \n",
       "2      2020-06-23T04:45:34.726Z  2020-06-23T04:45:34.726Z             1   \n",
       "3      2020-06-23T04:45:25.623Z  2020-06-23T04:45:25.623Z             2   \n",
       "4      2020-06-23T04:38:35.710Z  2020-06-23T04:39:38.154Z             1   \n",
       "...                         ...                       ...           ...   \n",
       "9997   2020-03-11T04:06:58.973Z  2020-03-11T05:02:24.894Z             0   \n",
       "9998   2020-03-11T03:56:22.796Z  2020-03-11T03:56:22.796Z             0   \n",
       "9999   2020-03-11T03:42:01.074Z  2020-03-11T03:42:01.074Z             0   \n",
       "10000  2020-03-11T03:38:57.596Z  2020-03-11T04:48:32.220Z            14   \n",
       "10001  2020-03-11T03:38:09.087Z  2020-03-11T03:38:09.087Z             6   \n",
       "\n",
       "      forumName forumAlias gender  likeCount  \\\n",
       "0            閒聊       talk      F          0   \n",
       "1            閒聊       talk      M          0   \n",
       "2            閒聊       talk      M          1   \n",
       "3            閒聊       talk      F          0   \n",
       "4            閒聊       talk      M          1   \n",
       "...         ...        ...    ...        ...   \n",
       "9997         閒聊       talk      F          2   \n",
       "9998         閒聊       talk      M          0   \n",
       "9999         閒聊       talk      F          1   \n",
       "10000        閒聊       talk      F          2   \n",
       "10001        閒聊       talk      F          1   \n",
       "\n",
       "                                               reactions              topics  \n",
       "0                                                     []    [胃食道逆流, 新竹, 照胃鏡]  \n",
       "1                                                     []                  []  \n",
       "2      [{'id': '286f599c-f86a-4932-82f0-f5a06f1eca03'...    [警察, 閒聊, 綠帽, 生活]  \n",
       "3                                                     []            [青筋, 閒聊]  \n",
       "4      [{'id': '286f599c-f86a-4932-82f0-f5a06f1eca03'...            [閒聊, 購物]  \n",
       "...                                                  ...                 ...  \n",
       "9997   [{'id': '286f599c-f86a-4932-82f0-f5a06f1eca03'...        [祭祖, 政府, 好笑]  \n",
       "9998                                                  []                  []  \n",
       "9999   [{'id': '286f599c-f86a-4932-82f0-f5a06f1eca03'...                  []  \n",
       "10000  [{'id': '286f599c-f86a-4932-82f0-f5a06f1eca03'...  [車禍, 賠償, 和解, 車禍賠償]  \n",
       "10001  [{'id': '286f599c-f86a-4932-82f0-f5a06f1eca03'...                [鞋子]  \n",
       "\n",
       "[10002 rows x 12 columns]"
      ]
     },
     "execution_count": 24,
     "metadata": {},
     "output_type": "execute_result"
    }
   ],
   "source": [
    "dataframe_talk = pd.DataFrame()\n",
    "query = {\"forumName\": \"閒聊\"}\n",
    "mydoc = dcard.find(query)\n",
    "for x in mydoc:\n",
    "    dataframe_talk = dataframe_talk.append(mongo_find(x),ignore_index=True)\n",
    "dataframe_talk\n",
    "#len(dataframe_talk)"
   ]
  },
  {
   "cell_type": "code",
   "execution_count": 13,
   "metadata": {},
   "outputs": [
    {
     "data": {
      "text/plain": [
       "10001"
      ]
     },
     "execution_count": 13,
     "metadata": {},
     "output_type": "execute_result"
    }
   ],
   "source": [
    "dataframe_dressup = pd.DataFrame()\n",
    "query = {\"forumName\": \"穿搭\"}\n",
    "mydoc = dcard.find(query)\n",
    "for x in mydoc:\n",
    "    dataframe_dressup = dataframe_dressup.append(mongo_find(x),ignore_index=True)\n",
    "#dataframe_dressup\n",
    "len(dataframe_dressup)"
   ]
  },
  {
   "cell_type": "code",
   "execution_count": 10,
   "metadata": {},
   "outputs": [
    {
     "data": {
      "text/plain": [
       "10001"
      ]
     },
     "execution_count": 10,
     "metadata": {},
     "output_type": "execute_result"
    }
   ],
   "source": [
    "dataframe_entertainer = pd.DataFrame()\n",
    "query = {\"forumName\": \"追星\"}\n",
    "mydoc = dcard.find(query)\n",
    "for x in mydoc:\n",
    "    dataframe_entertainer = dataframe_entertainer.append(mongo_find(x),ignore_index=True)\n",
    "#dataframe_entertainer\n",
    "len(dataframe_entertainer)"
   ]
  },
  {
   "cell_type": "code",
   "execution_count": 11,
   "metadata": {},
   "outputs": [
    {
     "data": {
      "text/plain": [
       "10001"
      ]
     },
     "execution_count": 11,
     "metadata": {},
     "output_type": "execute_result"
    }
   ],
   "source": [
    "dataframe_food = pd.DataFrame()\n",
    "query = {\"forumName\": \"美食\"}\n",
    "mydoc = dcard.find(query)\n",
    "for x in mydoc:\n",
    "    dataframe_food = dataframe_food.append(mongo_find(x),ignore_index=True)\n",
    "#dataframe_food\n",
    "len(dataframe_food)"
   ]
  },
  {
   "cell_type": "code",
   "execution_count": 12,
   "metadata": {},
   "outputs": [
    {
     "data": {
      "text/plain": [
       "9721"
      ]
     },
     "execution_count": 12,
     "metadata": {},
     "output_type": "execute_result"
    }
   ],
   "source": [
    "dataframe_funny = pd.DataFrame()\n",
    "query = {\"forumName\": \"有趣\"}\n",
    "mydoc = dcard.find(query)\n",
    "for x in mydoc:\n",
    "    dataframe_funny = dataframe_funny.append(mongo_find(x),ignore_index=True)\n",
    "#dataframe_funny\n",
    "len(dataframe_funny)"
   ]
  },
  {
   "cell_type": "code",
   "execution_count": 15,
   "metadata": {},
   "outputs": [
    {
     "data": {
      "text/plain": [
       "10791"
      ]
     },
     "execution_count": 15,
     "metadata": {},
     "output_type": "execute_result"
    }
   ],
   "source": [
    "dataframe_girl = pd.DataFrame()\n",
    "query = {\"forumName\": \"女孩\"}\n",
    "mydoc = dcard.find(query)\n",
    "for x in mydoc:\n",
    "    dataframe_girl = dataframe_girl.append(mongo_find(x),ignore_index=True)\n",
    "#dataframe_girl\n",
    "len(dataframe_girl)"
   ]
  },
  {
   "cell_type": "code",
   "execution_count": 16,
   "metadata": {},
   "outputs": [
    {
     "data": {
      "text/plain": [
       "6836"
      ]
     },
     "execution_count": 16,
     "metadata": {},
     "output_type": "execute_result"
    }
   ],
   "source": [
    "dataframe_job = pd.DataFrame()\n",
    "query = {\"forumName\": \"工作\"}\n",
    "mydoc = dcard.find(query)\n",
    "for x in mydoc:\n",
    "    dataframe_job = dataframe_job.append(mongo_find(x),ignore_index=True)\n",
    "#dataframe_job\n",
    "len(dataframe_job)"
   ]
  },
  {
   "cell_type": "code",
   "execution_count": 17,
   "metadata": {},
   "outputs": [
    {
     "data": {
      "text/plain": [
       "9361"
      ]
     },
     "execution_count": 17,
     "metadata": {},
     "output_type": "execute_result"
    }
   ],
   "source": [
    "dataframe_mood = pd.DataFrame()\n",
    "query = {\"forumName\": \"心情\"}\n",
    "mydoc = dcard.find(query)\n",
    "for x in mydoc:\n",
    "    dataframe_mood = dataframe_mood.append(mongo_find(x),ignore_index=True)\n",
    "#dataframe_mood\n",
    "len(dataframe_mood)"
   ]
  },
  {
   "cell_type": "code",
   "execution_count": 18,
   "metadata": {},
   "outputs": [
    {
     "data": {
      "text/plain": [
       "9798"
      ]
     },
     "execution_count": 18,
     "metadata": {},
     "output_type": "execute_result"
    }
   ],
   "source": [
    "dataframe_relationship = pd.DataFrame()\n",
    "query = {\"forumName\": \"感情\"}\n",
    "mydoc = dcard.find(query)\n",
    "for x in mydoc:\n",
    "    dataframe_relationship = dataframe_relationship.append(mongo_find(x),ignore_index=True)\n",
    "#dataframe_relationship\n",
    "len(dataframe_relationship)"
   ]
  },
  {
   "cell_type": "code",
   "execution_count": 19,
   "metadata": {},
   "outputs": [
    {
     "data": {
      "text/plain": [
       "10001"
      ]
     },
     "execution_count": 19,
     "metadata": {},
     "output_type": "execute_result"
    }
   ],
   "source": [
    "dataframe_trending = pd.DataFrame()\n",
    "query = {\"forumName\": \"時事\"}\n",
    "mydoc = dcard.find(query)\n",
    "for x in mydoc:\n",
    "    dataframe_trending = dataframe_trending.append(mongo_find(x),ignore_index=True)\n",
    "#dataframe_trending\n",
    "len(dataframe_trending)"
   ]
  },
  {
   "cell_type": "code",
   "execution_count": 20,
   "metadata": {},
   "outputs": [
    {
     "data": {
      "text/plain": [
       "10001"
      ]
     },
     "execution_count": 20,
     "metadata": {},
     "output_type": "execute_result"
    }
   ],
   "source": [
    "dataframe_tvepisode = pd.DataFrame()\n",
    "query = {\"forumName\": \"戲劇綜藝\"}\n",
    "mydoc = dcard.find(query)\n",
    "for x in mydoc:\n",
    "    dataframe_tvepisode = dataframe_tvepisode.append(mongo_find(x),ignore_index=True)\n",
    "#dataframe_tvepisode\n",
    "len(dataframe_tvepisode)"
   ]
  },
  {
   "cell_type": "code",
   "execution_count": 22,
   "metadata": {},
   "outputs": [
    {
     "data": {
      "text/plain": [
       "3111"
      ]
     },
     "execution_count": 22,
     "metadata": {},
     "output_type": "execute_result"
    }
   ],
   "source": [
    "#youtuber版 只有3000多筆\n",
    "dataframe_youtuber = pd.DataFrame()\n",
    "query = {\"forumName\": \"YouTuber\"}\n",
    "mydoc = dcard.find(query)\n",
    "for x in mydoc:\n",
    "    dataframe_youtuber = dataframe_youtuber.append(mongo_find(x),ignore_index=True)\n",
    "#dataframe_youtuber\n",
    "len(dataframe_youtuber)"
   ]
  },
  {
   "cell_type": "code",
   "execution_count": null,
   "metadata": {},
   "outputs": [],
   "source": []
  }
 ],
 "metadata": {
  "kernelspec": {
   "display_name": "crawler",
   "language": "python",
   "name": "crawler"
  },
  "language_info": {
   "codemirror_mode": {
    "name": "ipython",
    "version": 3
   },
   "file_extension": ".py",
   "mimetype": "text/x-python",
   "name": "python",
   "nbconvert_exporter": "python",
   "pygments_lexer": "ipython3",
   "version": "3.7.6"
  }
 },
 "nbformat": 4,
 "nbformat_minor": 4
}
